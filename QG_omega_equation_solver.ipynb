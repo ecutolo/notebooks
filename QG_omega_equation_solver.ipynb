{
 "cells": [
  {
   "cell_type": "markdown",
   "metadata": {},
   "source": [
    "# Computing Vertical Velocity with the QG omega equation"
   ]
  },
  {
   "cell_type": "markdown",
   "metadata": {},
   "source": [
    "## General Info\n",
    "#### Author\n",
    "\n",
    "    Eugenio Cutolo, e.cutolo@imedea.uib-csic.es (IMEDEA)\n",
    "\n",
    "#### Context\n",
    "\n",
    "    Work done during my PhD at IMEDEA\n",
    "\n",
    "#### Purpose\n",
    "\n",
    "    Compute the vertical velocity from the Quasi-Geostrophic omega equation starting from the geostrophic velocities and density on a regular grid.\n",
    "\n",
    "\n",
    "#### Todo and Remarks\n",
    "    - Further libraries to solve PDE can be tested"
   ]
  },
  {
   "cell_type": "markdown",
   "metadata": {},
   "source": [
    "    \n",
    "## Terms of use and code sharing\n",
    "This code is under Creative Commons Attribution-ShareAlike 4.0 International license (CC BY-SA 4.0).\n",
    "\n",
    "\n",
    "You are free to:\n",
    "\n",
    "  - Share — copy and redistribute the material in any medium or format\n",
    "  - Adapt — remix, transform, and build upon the material\n",
    "    for any purpose, even commercially.\n",
    "\n",
    "Under the following terms:\n",
    "\n",
    " - Attribution — You must give appropriate credit, provide a link to the license, and indicate if changes were made. You may do so in any reasonable manner, but not in any way that suggests the licensor endorses you or your use.\n",
    "\n",
    " - ShareAlike — If you remix, transform, or build upon the material, you must distribute your contributions under the same license as the original. "
   ]
  },
  {
   "cell_type": "code",
   "execution_count": 1,
   "metadata": {},
   "outputs": [],
   "source": [
    "import xarray as xr\n",
    "import numpy as np"
   ]
  },
  {
   "cell_type": "code",
   "execution_count": 2,
   "metadata": {},
   "outputs": [],
   "source": [
    "from findiff import FinDiff, operators, PDE, BoundaryConditions"
   ]
  },
  {
   "cell_type": "markdown",
   "metadata": {},
   "source": [
    "### Load data and set parameters"
   ]
  },
  {
   "cell_type": "code",
   "execution_count": 3,
   "metadata": {},
   "outputs": [],
   "source": [
    "dd = '/data/ecutolo/CALYPSO_postprocessing/'"
   ]
  },
  {
   "cell_type": "code",
   "execution_count": 4,
   "metadata": {},
   "outputs": [],
   "source": [
    "fn = 'HYDR_DIVA3D_LX15_LY30_LZ4_eps0.15_ADV0_APG95.0_AX20.0_AY35.0_AE0.2.nc'"
   ]
  },
  {
   "cell_type": "code",
   "execution_count": 5,
   "metadata": {},
   "outputs": [],
   "source": [
    "ds = xr.open_dataset(dd+fn)"
   ]
  },
  {
   "cell_type": "code",
   "execution_count": 6,
   "metadata": {},
   "outputs": [],
   "source": [
    "# Horizontal grid spacing in meters\n",
    "deltax = deltay = 2500 \n",
    "# Considers only 1 vertical level every 20 to speed up the computation\n",
    "zlevels = 20\n",
    "deltaz = 10"
   ]
  },
  {
   "cell_type": "code",
   "execution_count": 7,
   "metadata": {},
   "outputs": [],
   "source": [
    "# Coriolis parameter at mean latitude\n",
    "omega_earth = 7.2921159e-5         # Earth's angular velocity\n",
    "coriol_mean = 2 * omega_earth * np.sin(np.deg2rad(ds.lat.values.mean()))"
   ]
  },
  {
   "cell_type": "code",
   "execution_count": 8,
   "metadata": {},
   "outputs": [],
   "source": [
    "ugeo = ds.ugeo.values[::zlevels]\n",
    "vgeo = ds.vgeo.values[::zlevels]"
   ]
  },
  {
   "cell_type": "code",
   "execution_count": 9,
   "metadata": {},
   "outputs": [],
   "source": [
    "err_mask = ds.density_err.mean('depth').transpose()<0.05"
   ]
  },
  {
   "cell_type": "markdown",
   "metadata": {},
   "source": [
    "### Compute the Q vector"
   ]
  },
  {
   "cell_type": "code",
   "execution_count": 10,
   "metadata": {},
   "outputs": [],
   "source": [
    "buyoancy = 9.8*ds.density.values.transpose()[::zlevels]/(1000+ds.density.values.mean())\n",
    "N2 = (np.gradient(buyoancy,deltaz,axis=0))"
   ]
  },
  {
   "cell_type": "markdown",
   "metadata": {},
   "source": [
    "Q = ( du/dx*db/dx + dv/dx*db/dy, du/dy*db/dx + dv/dy*db/dy)"
   ]
  },
  {
   "cell_type": "code",
   "execution_count": 11,
   "metadata": {},
   "outputs": [],
   "source": [
    "QG = np.zeros((2,)+ugeo.shape)\n",
    "QG[0] += np.gradient(ugeo,deltax,axis=2)*np.gradient(buyoancy,deltax,axis=2)\n",
    "QG[0] += np.gradient(vgeo,deltax,axis=2)*np.gradient(buyoancy,deltay,axis=1)\n",
    "\n",
    "QG[1] += np.gradient(ugeo,deltay,axis=1)*np.gradient(buyoancy,deltax,axis=2)\n",
    "QG[1] += np.gradient(vgeo,deltax,axis=1)*np.gradient(buyoancy,deltax,axis=1)\n",
    "\n",
    "divQG  = np.gradient(QG[0],deltax,axis=2) + np.gradient(QG[1],deltax,axis=1)"
   ]
  },
  {
   "cell_type": "markdown",
   "metadata": {},
   "source": [
    "### Compute the two side of the equation"
   ]
  },
  {
   "cell_type": "code",
   "execution_count": 12,
   "metadata": {},
   "outputs": [],
   "source": [
    "RHS = 2*divQG"
   ]
  },
  {
   "cell_type": "code",
   "execution_count": 13,
   "metadata": {},
   "outputs": [],
   "source": [
    "LHS = operators.Coef(N2)*(FinDiff(2, deltax, 2) + FinDiff(1, deltay, 2))\n",
    "LHS += coriol_mean*coriol_mean*FinDiff(0, deltaz, 2)"
   ]
  },
  {
   "cell_type": "markdown",
   "metadata": {},
   "source": [
    "### Set the boundary conditions"
   ]
  },
  {
   "cell_type": "code",
   "execution_count": 14,
   "metadata": {},
   "outputs": [],
   "source": [
    "bc = BoundaryConditions(RHS.shape)\n",
    "bc[0,:] = 0  \n",
    "bc[-1,:] = 0  \n",
    "bc[:, 0] = 0   \n",
    "bc[:, -1] = 0  \n",
    "bc[:,:, 0] = 0   \n",
    "bc[:,:, -1] = 0"
   ]
  },
  {
   "cell_type": "markdown",
   "metadata": {},
   "source": [
    "### Solve the equation"
   ]
  },
  {
   "cell_type": "code",
   "execution_count": 15,
   "metadata": {},
   "outputs": [],
   "source": [
    "pde = PDE(LHS, RHS, bc)"
   ]
  },
  {
   "cell_type": "code",
   "execution_count": 16,
   "metadata": {},
   "outputs": [
    {
     "name": "stdout",
     "output_type": "stream",
     "text": [
      "CPU times: user 8.12 s, sys: 285 ms, total: 8.41 s\n",
      "Wall time: 8.44 s\n"
     ]
    }
   ],
   "source": [
    "%time w = pde.solve()"
   ]
  },
  {
   "cell_type": "code",
   "execution_count": 17,
   "metadata": {},
   "outputs": [],
   "source": [
    "W = xr.DataArray(w[:,:,:], coords=[ds.depth[::zlevels],ds.yi,ds.xi],\n",
    "                 dims=['depth','yi','xi'])"
   ]
  },
  {
   "cell_type": "code",
   "execution_count": 21,
   "metadata": {},
   "outputs": [
    {
     "data": {
      "text/plain": [
       "<matplotlib.contour.QuadContourSet at 0x7f6efea4db20>"
      ]
     },
     "execution_count": 21,
     "metadata": {},
     "output_type": "execute_result"
    },
    {
     "data": {
      "image/png": "[encoded data removed]",
      "text/plain": [
       "<Figure size 432x288 with 2 Axes>"
      ]
     },
     "metadata": {
      "needs_background": "light"
     },
     "output_type": "display_data"
    }
   ],
   "source": [
    "(W.isel(depth=5)*24*3600).where(err_mask).plot.contourf(levels=np.linspace(-30,30,11))"
   ]
  },
  {
   "cell_type": "code",
   "execution_count": 19,
   "metadata": {},
   "outputs": [],
   "source": [
    "final_ds = W.to_dataset(name='wqg')\n",
    "final_ds['lon'] = ds.lon\n",
    "final_ds['lat'] = ds.lat"
   ]
  },
  {
   "cell_type": "code",
   "execution_count": 20,
   "metadata": {},
   "outputs": [
    {
     "data": {
      "text/plain": [
       "'WQG_FD_DIVA3D_LX15_LY30_LZ4_eps0.15_ADV0_APG95.0_AX20.0_AY35.0_AE0.2.nc'"
      ]
     },
     "execution_count": 20,
     "metadata": {},
     "output_type": "execute_result"
    }
   ],
   "source": [
    "final_ds.to_netcdf(dd+fn.replace('HYDR_','WQG_FD_'))\n",
    "fn.replace('HYDR_','WQG_FD_')"
   ]
  },
  {
   "cell_type": "code",
   "execution_count": null,
   "metadata": {},
   "outputs": [],
   "source": []
  }
 ],
 "metadata": {
  "kernelspec": {
   "display_name": "Python 3",
   "language": "python",
   "name": "python3"
  },
  "language_info": {
   "codemirror_mode": {
    "name": "ipython",
    "version": 3
   },
   "file_extension": ".py",
   "mimetype": "text/x-python",
   "name": "python",
   "nbconvert_exporter": "python",
   "pygments_lexer": "ipython3",
   "version": "3.8.6"
  }
 },
 "nbformat": 4,
 "nbformat_minor": 4
}
