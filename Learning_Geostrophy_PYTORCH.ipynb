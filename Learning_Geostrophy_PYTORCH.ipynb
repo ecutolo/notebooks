{
 "cells": [
  {
   "cell_type": "markdown",
   "id": "f8d19c73-d613-4cd8-9ce6-5c9500528591",
   "metadata": {},
   "source": [
    "## Experiment 1: Learning Basic Geostrophy with CNN"
   ]
  },
  {
   "cell_type": "code",
   "execution_count": 1,
   "id": "c4988082-7641-4a94-ab6c-e665cd5eac60",
   "metadata": {},
   "outputs": [],
   "source": [
    "import xarray as xr\n",
    "import numpy as np"
   ]
  },
  {
   "cell_type": "code",
   "execution_count": 2,
   "id": "a6e31c1b-b90c-40c7-9e14-3cf963ff47ca",
   "metadata": {},
   "outputs": [],
   "source": [
    "import pytorch_lightning as pl\n",
    "from torch.utils.data import random_split, DataLoader\n",
    "from torch import nn\n",
    "import torch"
   ]
  },
  {
   "cell_type": "code",
   "execution_count": 3,
   "id": "e32dd552-21b1-4e08-afd3-f020584d8a8d",
   "metadata": {},
   "outputs": [],
   "source": [
    "from sklearn.preprocessing import MinMaxScaler"
   ]
  },
  {
   "cell_type": "code",
   "execution_count": 4,
   "id": "3da89183-2f34-4c92-9b1c-cb811f154767",
   "metadata": {},
   "outputs": [],
   "source": [
    "from pytorch_lightning.callbacks import EarlyStopping\n",
    "from pytorch_lightning.callbacks import ModelCheckpoint\n",
    "import os"
   ]
  },
  {
   "cell_type": "code",
   "execution_count": 5,
   "id": "cc4156c1-27bc-4e67-99bc-95ea23bc1b20",
   "metadata": {},
   "outputs": [],
   "source": [
    "import matplotlib.pyplot as plt"
   ]
  },
  {
   "cell_type": "code",
   "execution_count": 6,
   "id": "51dd5a56-e871-4065-938f-8bce5a44391c",
   "metadata": {},
   "outputs": [],
   "source": [
    "import gsw"
   ]
  },
  {
   "cell_type": "markdown",
   "id": "3300f270-ac94-4b98-b58b-ab095ed5b16f",
   "metadata": {},
   "source": [
    "### Useful Function"
   ]
  },
  {
   "cell_type": "code",
   "execution_count": 7,
   "id": "67016189-c1e5-4336-ae8c-dc5ff1a51f42",
   "metadata": {},
   "outputs": [],
   "source": [
    "def scale_data(data,stype='standard'):\n",
    "    if stype == 'minmax':\n",
    "        to_subtract = data.min()\n",
    "        to_divide = (data.max() - data.min())\n",
    "    elif stype == 'robust':\n",
    "        to_subtract = data.median()\n",
    "        to_divide = (data.quantile(0.75) - data.quantile(0.25))\n",
    "    elif stype == 'standard':\n",
    "        to_subtract = data.mean()\n",
    "        to_divide = data.std()\n",
    "    data = (data - to_subtract)/to_divide\n",
    "    return data, to_subtract, to_divide"
   ]
  },
  {
   "cell_type": "code",
   "execution_count": 8,
   "id": "bac42c6e-657d-4a4a-94e7-09b9499288fd",
   "metadata": {},
   "outputs": [],
   "source": [
    "def dropnan(data):\n",
    "    samples_n = data.shape[0]\n",
    "    nansample_idx = [i for i in np.arange(samples_n) if np.sum(np.isnan(data[i])) > 0]\n",
    "    data = np.delete(data,nansample_idx,axis=0)\n",
    "    return data"
   ]
  },
  {
   "cell_type": "code",
   "execution_count": 9,
   "id": "06955b9d-c95b-4ddd-8ea0-d73b45c44916",
   "metadata": {},
   "outputs": [],
   "source": [
    "class MetricTracker(pl.Callback):\n",
    "\n",
    "    def __init__(self):\n",
    "        self.train_loss = []\n",
    "        self.val_loss = []\n",
    "\n",
    "    def on_validation_batch_end(self,trainer, module, outputs, *params):\n",
    "        pass\n",
    "            \n",
    "    def on_validation_epoch_end(self,trainer, module):\n",
    "        if 'train_loss' in trainer.callback_metrics:\n",
    "            last_train_loss = trainer.callback_metrics['train_loss'].cpu().numpy()\n",
    "            self.train_loss.append(last_train_loss)\n",
    "        if 'val_loss' in trainer.callback_metrics:\n",
    "            last_val_loss = trainer.callback_metrics['val_loss'].cpu().numpy()\n",
    "            self.val_loss.append(last_val_loss)\n"
   ]
  },
  {
   "cell_type": "code",
   "execution_count": 10,
   "id": "c62d2e5d-22fd-429d-b7a3-f3de4ac27e39",
   "metadata": {},
   "outputs": [],
   "source": [
    "from scipy.stats import linregress\n",
    "\n",
    "def plot_scatter_correlation(x,y,ax=False):\n",
    "    if not ax:\n",
    "        fig = plt.figure(figsize=[5,3])\n",
    "        ax = plt.subplot2grid((1, 1), (0, 0))\n",
    "        \n",
    "    lr = linregress(x,y)\n",
    "    ax.scatter(x,y,marker='+')\n",
    "    \n",
    "    linear_y = lr.slope*x+lr.intercept\n",
    "    ax.plot(x,linear_y,color='red',label='Correlation {0}'.format(np.round(lr.rvalue,2)))\n",
    "    ax.legend()\n",
    "    return ax"
   ]
  },
  {
   "cell_type": "markdown",
   "id": "812b6586-b455-4384-b87d-8ca30ba1f84a",
   "metadata": {},
   "source": [
    "### CNN Model"
   ]
  },
  {
   "cell_type": "code",
   "execution_count": 11,
   "id": "02282a4d-76df-4389-8a98-ed33eed6bedd",
   "metadata": {},
   "outputs": [],
   "source": [
    "class geostrophyModel(pl.LightningModule):\n",
    "    def __init__(self,depthsN=20,learning_rate=0.001):\n",
    "        super().__init__()\n",
    "        self.lr = learning_rate\n",
    "        \n",
    "        self.conv1 = torch.nn.Conv2d(in_channels=1, out_channels=50,kernel_size=1,\n",
    "                                     padding_mode='reflect', padding='same')\n",
    "        self.relu1 = torch.nn.ReLU()\n",
    "       \n",
    "    \n",
    "        self.conv2 = torch.nn.Conv2d(in_channels=50, out_channels=30,kernel_size=1,\n",
    "                                     padding_mode='reflect', padding='same')\n",
    "        self.relu2 = torch.nn.ReLU()\n",
    "        \n",
    "        \n",
    "        self.conv3 = torch.nn.Conv2d(in_channels=30, out_channels=2,kernel_size=1,\n",
    "                                     padding_mode='reflect', padding='same')\n",
    "        self.relu3 = torch.nn.ReLU()\n",
    "        \n",
    "        \n",
    "        self.loss = torch.nn.MSELoss()\n",
    "        \n",
    "    def forward(self, x):\n",
    "        x = self.conv1(x)\n",
    "        x = self.relu1(x)\n",
    "        \n",
    "        x = self.conv2(x)\n",
    "        x = self.relu2(x)\n",
    "        \n",
    "        x = self.conv3(x)\n",
    "        x = self.relu3(x)\n",
    "        return x\n",
    "        \n",
    "    def configure_optimizers(self):\n",
    "        return torch.optim.Adam(self.parameters(), lr=self.lr)\n",
    "        \n",
    "    def training_step(self, batch, batch_idx):\n",
    "        ssh = torch.unsqueeze(batch[:,0].float(),1)\n",
    "        vgeo_true = batch[:,1:3].float()\n",
    "        vgeo_pred  = self.forward(ssh)                \n",
    "        loss = self.loss(vgeo_pred, vgeo_true)\n",
    "        self.log('train_loss', loss)\n",
    "        return loss\n",
    "        \n",
    "    def validation_step(self, batch, batch_idx):\n",
    "        ssh = torch.unsqueeze(batch[:,0].float(),1)\n",
    "        vgeo_true = batch[:,1:3].float()\n",
    "        vgeo_pred  = self.forward(ssh)\n",
    "        loss = self.loss(vgeo_pred, vgeo_true)\n",
    "        self.log('val_loss', loss)\n",
    "        return loss"
   ]
  },
  {
   "cell_type": "markdown",
   "id": "7e4f5f8b-da2a-43f5-9e3c-bca4d3ce3f17",
   "metadata": {},
   "source": [
    "### Geostrophy Velocities Data Module"
   ]
  },
  {
   "cell_type": "code",
   "execution_count": 12,
   "id": "a23c1611-dcf9-49b4-a72d-e9b614572430",
   "metadata": {
    "tags": []
   },
   "outputs": [],
   "source": [
    "class eNATL60DataModule(pl.LightningDataModule):\n",
    "    def __init__(self, ds, lon=None, lat=None, depthN=10,n=365):\n",
    "        self.ds = ds.isel(time_counter=slice(0,n))\n",
    "        self.lat = lat\n",
    "        self.lon = lon\n",
    "        self.depthN = depthN\n",
    "        self.n = n\n",
    "        super().__init__()\n",
    "    \n",
    "    def prepare_geostrophic_data(self):\n",
    "        self.data = np.zeros((3,)+self.ds['ssh'].shape)\n",
    "        self.data[0] = self.ds['ssh'].values\n",
    "        self.data[1] = -1*np.gradient(self.data[0],axis=1)\n",
    "        self.data[2] = np.gradient(self.data[0],axis=2)\n",
    "\n",
    "        self.data[0], *self.ssh_sparam = scale_data(self.data[0])\n",
    "        self.data[1], *self.u_sparam = scale_data(self.data[1])\n",
    "        self.data[2], *self.v_sparam = scale_data(self.data[2])\n",
    "        \n",
    "        self.data = dropnan(self.data)\n",
    "        \n",
    "        self.data = np.swapaxes(MEDBAL_dl.data,0,1)\n",
    "        print(self.data.shape)\n",
    "                        \n",
    "    def setup(self,val_pct=0.3,test_pct=0.1,batch_size=64):\n",
    "        self.batch_size = batch_size\n",
    "        \n",
    "        split_idx = (np.cumsum([0,val_pct,test_pct])*self.n).astype(int)\n",
    "\n",
    "        self.val_split = self.data[0:split_idx[1]]\n",
    "        self.test_split = self.data[split_idx[1]:split_idx[2]]\n",
    "        self.train_split = self.data[split_idx[2]:]\n",
    "    \n",
    "    def train_dataloader(self):\n",
    "        return DataLoader(self.train_split, batch_size=self.batch_size, \n",
    "                          shuffle=True,num_workers=10)\n",
    "    \n",
    "    def val_dataloader(self):\n",
    "        return DataLoader(self.val_split, batch_size=self.batch_size, \n",
    "                          shuffle=False,num_workers=10)\n",
    "    \n",
    "    def test_dataloader(self):\n",
    "        return DataLoader(self.test_split, batch_size=self.batch_size, \n",
    "                          shuffle=False,num_workers=10)"
   ]
  },
  {
   "cell_type": "markdown",
   "id": "4b9b5dc1-27b3-4aea-ac08-4d031f6a48ff",
   "metadata": {},
   "source": [
    "### Parameters definition and data loading"
   ]
  },
  {
   "cell_type": "code",
   "execution_count": 13,
   "id": "a17083fe-c962-43f5-8fd6-4c4bd6de7729",
   "metadata": {},
   "outputs": [],
   "source": [
    "dd = '/home/ecutolo/Data/MEDBAL/'\n",
    "lat = (39.95,40.95)\n",
    "lon = (1.05,2.95)\n",
    "depthN = 20\n",
    "\n",
    "learning_rate = 0.01"
   ]
  },
  {
   "cell_type": "code",
   "execution_count": 14,
   "id": "4d04eda6-b22a-4b13-accc-5c643d0821ad",
   "metadata": {},
   "outputs": [],
   "source": [
    "MEDBAL_dl = eNATL60DataModule(xr.open_dataset(dd+'MEDBAL.nc'),\n",
    "                              lon=lon,lat=lat,n=365,depthN=depthN)"
   ]
  },
  {
   "cell_type": "code",
   "execution_count": 15,
   "id": "068b7954-f1a6-4443-b6c8-0da722e6ceb1",
   "metadata": {},
   "outputs": [
    {
     "name": "stdout",
     "output_type": "stream",
     "text": [
      "(365, 3, 76, 104)\n"
     ]
    }
   ],
   "source": [
    "MEDBAL_dl.prepare_geostrophic_data()"
   ]
  },
  {
   "cell_type": "code",
   "execution_count": 16,
   "id": "073f0f09-1ac5-4d50-bc91-0af8c5ba3667",
   "metadata": {},
   "outputs": [],
   "source": [
    "MEDBAL_dl.setup(batch_size=4)"
   ]
  },
  {
   "cell_type": "markdown",
   "id": "0f5961c2-2592-43d5-8f74-d610f0e682ab",
   "metadata": {},
   "source": [
    "### Model Training"
   ]
  },
  {
   "cell_type": "code",
   "execution_count": 17,
   "id": "ebd444be-2ff4-4f3c-909d-76c07e1a0eb2",
   "metadata": {},
   "outputs": [],
   "source": [
    "model = geostrophyModel(learning_rate=learning_rate)"
   ]
  },
  {
   "cell_type": "code",
   "execution_count": 18,
   "id": "2e576884-469f-4c3f-a5a0-bc16c400b501",
   "metadata": {},
   "outputs": [],
   "source": [
    "cb = MetricTracker()"
   ]
  },
  {
   "cell_type": "code",
   "execution_count": 19,
   "id": "d04d1b19-51af-470d-8e7b-135e255b0da4",
   "metadata": {},
   "outputs": [
    {
     "name": "stderr",
     "output_type": "stream",
     "text": [
      "GPU available: True, used: True\n",
      "TPU available: False, using: 0 TPU cores\n",
      "IPU available: False, using: 0 IPUs\n",
      "/home/ecutolo/mambaforge/envs/ML/lib/python3.9/site-packages/pytorch_lightning/core/datamodule.py:469: LightningDeprecationWarning: DataModule.setup has already been called, so it will not be called again. In v1.6 this behavior will change to always call DataModule.setup.\n",
      "  rank_zero_deprecation(\n",
      "LOCAL_RANK: 0 - CUDA_VISIBLE_DEVICES: [0]\n",
      "\n",
      "  | Name  | Type    | Params\n",
      "----------------------------------\n",
      "0 | conv1 | Conv2d  | 100   \n",
      "1 | relu1 | ReLU    | 0     \n",
      "2 | conv2 | Conv2d  | 1.5 K \n",
      "3 | relu2 | ReLU    | 0     \n",
      "4 | conv3 | Conv2d  | 62    \n",
      "5 | relu3 | ReLU    | 0     \n",
      "6 | loss  | MSELoss | 0     \n",
      "----------------------------------\n",
      "1.7 K     Trainable params\n",
      "0         Non-trainable params\n",
      "1.7 K     Total params\n",
      "0.007     Total estimated model params size (MB)\n",
      "/home/ecutolo/mambaforge/envs/ML/lib/python3.9/site-packages/pytorch_lightning/callbacks/model_checkpoint.py:617: UserWarning: Checkpoint directory /home/ecutolo/Workdir/oceanix-course exists and is not empty.\n",
      "  rank_zero_warn(f\"Checkpoint directory {dirpath} exists and is not empty.\")\n"
     ]
    },
    {
     "data": {
      "application/vnd.jupyter.widget-view+json": {
       "model_id": "",
       "version_major": 2,
       "version_minor": 0
      },
      "text/plain": [
       "Validation sanity check: 0it [00:00, ?it/s]"
      ]
     },
     "metadata": {},
     "output_type": "display_data"
    },
    {
     "data": {
      "application/vnd.jupyter.widget-view+json": {
       "model_id": "269f633e97e642c2bf8dcfb1661788c8",
       "version_major": 2,
       "version_minor": 0
      },
      "text/plain": [
       "Training: 0it [00:00, ?it/s]"
      ]
     },
     "metadata": {},
     "output_type": "display_data"
    },
    {
     "data": {
      "application/vnd.jupyter.widget-view+json": {
       "model_id": "",
       "version_major": 2,
       "version_minor": 0
      },
      "text/plain": [
       "Validating: 0it [00:00, ?it/s]"
      ]
     },
     "metadata": {},
     "output_type": "display_data"
    },
    {
     "data": {
      "application/vnd.jupyter.widget-view+json": {
       "model_id": "",
       "version_major": 2,
       "version_minor": 0
      },
      "text/plain": [
       "Validating: 0it [00:00, ?it/s]"
      ]
     },
     "metadata": {},
     "output_type": "display_data"
    },
    {
     "data": {
      "application/vnd.jupyter.widget-view+json": {
       "model_id": "",
       "version_major": 2,
       "version_minor": 0
      },
      "text/plain": [
       "Validating: 0it [00:00, ?it/s]"
      ]
     },
     "metadata": {},
     "output_type": "display_data"
    },
    {
     "data": {
      "application/vnd.jupyter.widget-view+json": {
       "model_id": "",
       "version_major": 2,
       "version_minor": 0
      },
      "text/plain": [
       "Validating: 0it [00:00, ?it/s]"
      ]
     },
     "metadata": {},
     "output_type": "display_data"
    },
    {
     "data": {
      "application/vnd.jupyter.widget-view+json": {
       "model_id": "",
       "version_major": 2,
       "version_minor": 0
      },
      "text/plain": [
       "Validating: 0it [00:00, ?it/s]"
      ]
     },
     "metadata": {},
     "output_type": "display_data"
    },
    {
     "data": {
      "application/vnd.jupyter.widget-view+json": {
       "model_id": "",
       "version_major": 2,
       "version_minor": 0
      },
      "text/plain": [
       "Validating: 0it [00:00, ?it/s]"
      ]
     },
     "metadata": {},
     "output_type": "display_data"
    },
    {
     "data": {
      "application/vnd.jupyter.widget-view+json": {
       "model_id": "",
       "version_major": 2,
       "version_minor": 0
      },
      "text/plain": [
       "Validating: 0it [00:00, ?it/s]"
      ]
     },
     "metadata": {},
     "output_type": "display_data"
    },
    {
     "data": {
      "application/vnd.jupyter.widget-view+json": {
       "model_id": "",
       "version_major": 2,
       "version_minor": 0
      },
      "text/plain": [
       "Validating: 0it [00:00, ?it/s]"
      ]
     },
     "metadata": {},
     "output_type": "display_data"
    },
    {
     "data": {
      "application/vnd.jupyter.widget-view+json": {
       "model_id": "",
       "version_major": 2,
       "version_minor": 0
      },
      "text/plain": [
       "Validating: 0it [00:00, ?it/s]"
      ]
     },
     "metadata": {},
     "output_type": "display_data"
    },
    {
     "data": {
      "application/vnd.jupyter.widget-view+json": {
       "model_id": "",
       "version_major": 2,
       "version_minor": 0
      },
      "text/plain": [
       "Validating: 0it [00:00, ?it/s]"
      ]
     },
     "metadata": {},
     "output_type": "display_data"
    },
    {
     "data": {
      "application/vnd.jupyter.widget-view+json": {
       "model_id": "",
       "version_major": 2,
       "version_minor": 0
      },
      "text/plain": [
       "Validating: 0it [00:00, ?it/s]"
      ]
     },
     "metadata": {},
     "output_type": "display_data"
    }
   ],
   "source": [
    "trainer = pl.Trainer(\n",
    "    gpus=1,\n",
    "    max_epochs=300, \n",
    "    callbacks=[cb,\n",
    "        EarlyStopping(monitor=\"val_loss\", patience=10),\n",
    "        ModelCheckpoint(monitor='val_loss',\n",
    "                        dirpath='.', \n",
    "                        filename='model',\n",
    "                        save_weights_only=True)]\n",
    ")\n",
    "\n",
    "history = trainer.fit(model, MEDBAL_dl)"
   ]
  },
  {
   "cell_type": "markdown",
   "id": "c137ccff-978e-4a29-bbc9-b3f6f7f8b679",
   "metadata": {},
   "source": [
    "### Test"
   ]
  },
  {
   "cell_type": "code",
   "execution_count": 20,
   "id": "3325dc23-fb22-4c49-96da-4be497419956",
   "metadata": {},
   "outputs": [
    {
     "data": {
      "text/plain": [
       "[<matplotlib.lines.Line2D at 0x7f0f50596cd0>]"
      ]
     },
     "execution_count": 20,
     "metadata": {},
     "output_type": "execute_result"
    },
    {
     "data": {
      "image/png": "[encoded data removed]",
      "text/plain": [
       "<Figure size 432x288 with 1 Axes>"
      ]
     },
     "metadata": {
      "needs_background": "light"
     },
     "output_type": "display_data"
    }
   ],
   "source": [
    "plt.plot(np.array(cb.train_loss))\n",
    "plt.plot(np.array(cb.val_loss))"
   ]
  },
  {
   "cell_type": "code",
   "execution_count": 21,
   "id": "e1b02071-6682-45c7-8474-26b4f96b8bfb",
   "metadata": {},
   "outputs": [],
   "source": [
    "test_snapshot = next(iter(MEDBAL_dl.test_dataloader()))[0]\n",
    "test_ssh = torch.unsqueeze(torch.unsqueeze(test_snapshot[0],0),0)\n",
    "test_vgeo = test_snapshot[1:3]"
   ]
  },
  {
   "cell_type": "code",
   "execution_count": 22,
   "id": "a7262f79-f1d7-482e-8987-1fad0e9d2dd1",
   "metadata": {},
   "outputs": [],
   "source": [
    "test_vgeo_pred = model.forward(test_ssh.float()).detach().numpy()[0]"
   ]
  },
  {
   "cell_type": "code",
   "execution_count": 23,
   "id": "f5c38a2a-d35c-4e86-9722-f8749d538748",
   "metadata": {},
   "outputs": [
    {
     "name": "stderr",
     "output_type": "stream",
     "text": [
      "/home/ecutolo/mambaforge/envs/ML/lib/python3.9/site-packages/scipy/stats/_stats_mstats_common.py:170: RuntimeWarning: invalid value encountered in double_scalars\n",
      "  slope = ssxym / ssxm\n",
      "/home/ecutolo/mambaforge/envs/ML/lib/python3.9/site-packages/scipy/stats/_stats_mstats_common.py:187: RuntimeWarning: divide by zero encountered in double_scalars\n",
      "  slope_stderr = np.sqrt((1 - r**2) * ssym / ssxm / df)\n",
      "/home/ecutolo/mambaforge/envs/ML/lib/python3.9/site-packages/scipy/stats/_stats_mstats_common.py:194: RuntimeWarning: invalid value encountered in double_scalars\n",
      "  intercept_stderr = slope_stderr * np.sqrt(ssxm + xmean**2)\n"
     ]
    },
    {
     "data": {
      "text/plain": [
       "<AxesSubplot:>"
      ]
     },
     "execution_count": 23,
     "metadata": {},
     "output_type": "execute_result"
    },
    {
     "data": {
      "image/png": "[encoded data removed]",
      "text/plain": [
       "<Figure size 360x216 with 1 Axes>"
      ]
     },
     "metadata": {
      "needs_background": "light"
     },
     "output_type": "display_data"
    }
   ],
   "source": [
    "plot_scatter_correlation(test_vgeo_pred[0].ravel(),test_ssh[0].ravel())"
   ]
  },
  {
   "cell_type": "code",
   "execution_count": 24,
   "id": "52c2d6a3-f5b8-4461-a43c-4abdf125f6e2",
   "metadata": {},
   "outputs": [
    {
     "data": {
      "text/plain": [
       "(2, 76, 104)"
      ]
     },
     "execution_count": 24,
     "metadata": {},
     "output_type": "execute_result"
    }
   ],
   "source": [
    "test_vgeo_pred.shape"
   ]
  },
  {
   "cell_type": "code",
   "execution_count": 25,
   "id": "083bc381-c3e8-43f6-b1ed-a2e59f09971b",
   "metadata": {},
   "outputs": [
    {
     "data": {
      "text/plain": [
       "<matplotlib.colorbar.Colorbar at 0x7f0f66d27d00>"
      ]
     },
     "execution_count": 25,
     "metadata": {},
     "output_type": "execute_result"
    },
    {
     "data": {
      "image/png": "[encoded data removed]",
      "text/plain": [
       "<Figure size 432x288 with 2 Axes>"
      ]
     },
     "metadata": {
      "needs_background": "light"
     },
     "output_type": "display_data"
    }
   ],
   "source": [
    "plt.pcolormesh(test_vgeo[1])\n",
    "plt.colorbar()"
   ]
  },
  {
   "cell_type": "code",
   "execution_count": 26,
   "id": "749d83ff-19e4-4ae8-ae9e-30edc107ea0a",
   "metadata": {},
   "outputs": [
    {
     "data": {
      "text/plain": [
       "<matplotlib.colorbar.Colorbar at 0x7f0f66ca3970>"
      ]
     },
     "execution_count": 26,
     "metadata": {},
     "output_type": "execute_result"
    },
    {
     "data": {
      "image/png": "[encoded data removed]",
      "text/plain": [
       "<Figure size 432x288 with 2 Axes>"
      ]
     },
     "metadata": {
      "needs_background": "light"
     },
     "output_type": "display_data"
    }
   ],
   "source": [
    "plt.pcolormesh(test_vgeo_pred[1])\n",
    "plt.colorbar()"
   ]
  },
  {
   "cell_type": "code",
   "execution_count": null,
   "id": "4b7bdedf-e032-4b91-a036-6349c8ee01e7",
   "metadata": {},
   "outputs": [],
   "source": []
  },
  {
   "cell_type": "code",
   "execution_count": null,
   "id": "c1ec867f-7ba0-4a21-9a1e-00f7cf346745",
   "metadata": {},
   "outputs": [],
   "source": []
  },
  {
   "cell_type": "code",
   "execution_count": null,
   "id": "3259dff7-07aa-44b0-8a30-0fc574e60168",
   "metadata": {},
   "outputs": [],
   "source": []
  }
 ],
 "metadata": {
  "kernelspec": {
   "display_name": "Python [conda env:ML]",
   "language": "python",
   "name": "conda-env-ML-py"
  },
  "language_info": {
   "codemirror_mode": {
    "name": "ipython",
    "version": 3
   },
   "file_extension": ".py",
   "mimetype": "text/x-python",
   "name": "python",
   "nbconvert_exporter": "python",
   "pygments_lexer": "ipython3",
   "version": "3.9.7"
  }
 },
 "nbformat": 4,
 "nbformat_minor": 5
}
